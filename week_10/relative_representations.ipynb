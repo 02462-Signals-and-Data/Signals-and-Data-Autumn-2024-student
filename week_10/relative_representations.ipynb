{
 "cells": [
  {
   "cell_type": "code",
   "execution_count": 14,
   "id": "initial_id",
   "metadata": {
    "collapsed": true,
    "ExecuteTime": {
     "end_time": "2024-07-16T14:54:55.694735Z",
     "start_time": "2024-07-16T14:54:55.686688Z"
    }
   },
   "outputs": [],
   "source": [
    "import random\n",
    "import numpy as np\n",
    "import matplotlib.pyplot as plt\n",
    "from os.path import join\n",
    "from tqdm import tqdm\n",
    "\n",
    "from collections import defaultdict\n",
    "from sklearn.decomposition import PCA\n",
    "from sklearn.neighbors import NearestNeighbors, KNeighborsClassifier"
   ]
  },
  {
   "cell_type": "markdown",
   "source": [
    "Download:\n",
    "For fasttext we want the `1. wiki-news-300d-1M.vec.zip: 1 million word vectors trained on Wikipedia 2017, UMBC webbase corpus and statmt.org news dataset (16B tokens).` found at \n",
    "\n",
    "`https://fasttext.cc/docs/en/english-vectors.html`\n",
    "\n",
    "For GloVe we want the `Wikipedia 2014 + Gigaword 5 (6B tokens, 400K vocab, uncased, 50d, 100d, 200d, & 300d vectors, 822 MB download): glove.6B.zip` found at \n",
    "\n",
    "`https://nlp.stanford.edu/projects/glove/`"
   ],
   "metadata": {
    "collapsed": false
   },
   "id": "cd1ff3324dedccc0"
  },
  {
   "cell_type": "code",
   "outputs": [],
   "source": [
    "def load_vectors_from_file(filename, n_words=20_000, encoding='utf-8', specified_word_set=None):\n",
    "    p_bar = tqdm(total=n_words, desc='Loading word vectors', position=0, leave=True)\n",
    "    embeddings_dict = {}\n",
    "    with open(filename, 'r', encoding=encoding) as f:\n",
    "        for line in f:\n",
    "            values = line.split()\n",
    "            word = values[0]\n",
    "            if specified_word_set is None or word in specified_word_set:\n",
    "                vector = np.asarray(values[1:], \"float32\")\n",
    "                if len(vector) > 1:\n",
    "                    embeddings_dict[word] = vector\n",
    "                    p_bar.update(1)\n",
    "                    if len(embeddings_dict) == n_words:\n",
    "                        break\n",
    "    print(f'Loaded {len(embeddings_dict)} word vectors')\n",
    "    return embeddings_dict\n",
    "\n",
    "\n",
    "def ensure_intersection_keys(dict1, dict2):\n",
    "    \"\"\"\n",
    "    Modifies the input dictionaries to only keep keys that exist in both dictionaries.\n",
    "    \n",
    "    Parameters:\n",
    "    dict1 (dict): The first dictionary to be modified.\n",
    "    dict2 (dict): The second dictionary to be modified.\n",
    "    \"\"\"\n",
    "    # Find the intersection of the keys\n",
    "    common_keys = set(dict1.keys()).intersection(set(dict2.keys()))\n",
    "    \n",
    "    # Remove keys from dict1 that are not in the intersection\n",
    "    keys_to_remove = set(dict1.keys()) - common_keys\n",
    "    for key in keys_to_remove:\n",
    "        del dict1[key]\n",
    "    print(f'Removed {len(keys_to_remove)}, leaving {len(dict1.keys())}')\n",
    "\n",
    "    # Remove keys from dict2 that are not in the intersection\n",
    "    keys_to_remove = set(dict2.keys()) - common_keys\n",
    "    for key in keys_to_remove:\n",
    "        del dict2[key]"
   ],
   "metadata": {
    "collapsed": false,
    "ExecuteTime": {
     "end_time": "2024-07-16T14:55:59.223213Z",
     "start_time": "2024-07-16T14:55:59.201397Z"
    }
   },
   "id": "f2307912b9ebe238",
   "execution_count": 29
  },
  {
   "cell_type": "code",
   "outputs": [
    {
     "name": "stderr",
     "output_type": "stream",
     "text": [
      "Loading word vectors: 100%|██████████| 200000/200000 [00:17<00:00, 11534.75it/s]"
     ]
    },
    {
     "name": "stdout",
     "output_type": "stream",
     "text": [
      "Loaded 200000 word vectors\n"
     ]
    },
    {
     "name": "stderr",
     "output_type": "stream",
     "text": [
      "\n"
     ]
    }
   ],
   "source": [
    "n_words = 200_000\n",
    "filename_glove = join(\"glove.6B\", \"glove.6B.300d.txt\")\n",
    "embeddings_dict_glove = load_vectors_from_file(filename_glove, n_words=n_words)"
   ],
   "metadata": {
    "collapsed": false,
    "ExecuteTime": {
     "end_time": "2024-07-16T15:22:27.317461Z",
     "start_time": "2024-07-16T15:22:09.950333Z"
    }
   },
   "id": "47955bb958a26475",
   "execution_count": 97
  },
  {
   "cell_type": "code",
   "outputs": [
    {
     "name": "stderr",
     "output_type": "stream",
     "text": [
      "Loading word vectors:  56%|█████▌    | 112212/200000 [00:26<00:20, 4288.45it/s]"
     ]
    },
    {
     "name": "stdout",
     "output_type": "stream",
     "text": [
      "Loaded 112212 word vectors\n"
     ]
    },
    {
     "name": "stderr",
     "output_type": "stream",
     "text": [
      "\n"
     ]
    }
   ],
   "source": [
    "filename_fasttext = 'wiki-news-300d-1M.vec'\n",
    "embeddings_dict_fasttext = load_vectors_from_file(filename_fasttext, n_words=n_words, specified_word_set=set(embeddings_dict_glove.keys()))"
   ],
   "metadata": {
    "collapsed": false,
    "ExecuteTime": {
     "end_time": "2024-07-16T15:23:03.690265Z",
     "start_time": "2024-07-16T15:22:37.478910Z"
    }
   },
   "id": "e84c332fa32e8a57",
   "execution_count": 98
  },
  {
   "cell_type": "code",
   "outputs": [
    {
     "name": "stdout",
     "output_type": "stream",
     "text": [
      "Removed 87788, leaving 112212\n"
     ]
    }
   ],
   "source": [
    "ensure_intersection_keys(embeddings_dict_glove, embeddings_dict_fasttext)"
   ],
   "metadata": {
    "collapsed": false,
    "ExecuteTime": {
     "end_time": "2024-07-16T15:23:03.954952Z",
     "start_time": "2024-07-16T15:23:03.694108Z"
    }
   },
   "id": "cff62ff0328abcc4",
   "execution_count": 99
  },
  {
   "cell_type": "code",
   "outputs": [],
   "source": [
    "def get_anchors(embeddings_dict, n_anchors=300):\n",
    "    \"\"\"Randomly sample n_anchors from embeddings_dict and return as a matrix where each row is a relative representation vector. Returns shape (embedding_dim, n_anchors)\"\"\"\n",
    "    anchor_words = random.sample(list(embeddings_dict_fasttext.keys()), n_anchors)\n",
    "    anchor_vectors = np.vstack([embeddings_dict[word] for word in anchor_words])\n",
    "    \n",
    "    return anchor_vectors\n",
    "\n",
    "def get_relative_representations(embeddings_dict, similarity_measure, n_anchors=300):\n",
    "    \"\"\"Using a given similarity measure and embedding dictionary, calculate the relative representations and return as a matrix where each row is a relative representation vector. Returns shape (n_samples, n_anchors)\"\"\"\n",
    "    relative_representations = []\n",
    "    anchor_vectors = get_anchors(embeddings_dict, n_anchors=n_anchors)\n",
    "    \n",
    "    for word in tqdm(embeddings_dict.keys(), desc='Calculating relative representations',  position=0, leave=True):\n",
    "        embedding = embeddings_dict[word]\n",
    "        relative_representation = similarity_measure(embedding, anchor_vectors)\n",
    "        relative_representations.append(relative_representation)\n",
    "    data_vector = np.vstack(relative_representations)\n",
    "    \n",
    "    return data_vector"
   ],
   "metadata": {
    "collapsed": false,
    "ExecuteTime": {
     "end_time": "2024-07-16T15:23:03.971275Z",
     "start_time": "2024-07-16T15:23:03.958886Z"
    }
   },
   "id": "d80b93887e13d55b",
   "execution_count": 100
  },
  {
   "cell_type": "code",
   "outputs": [],
   "source": [
    "def cosine_similarity(word_vector, anchors):\n",
    "    \"\"\"Calculate the cosine similarity between the word vector and each of the anchors. Returns a vector of shape (n_anchors,)\"\"\"\n",
    "    # Normalize the word vector\n",
    "    word_vector_norm = np.linalg.norm(word_vector)\n",
    "    word_vector_normalized = word_vector / word_vector_norm\n",
    "    # Normalize the anchor rows\n",
    "    row_norms = np.linalg.norm(anchors, axis=1)\n",
    "    anchors_normalized = anchors / row_norms[:, np.newaxis]\n",
    "    # Compute the cosine similarities (dot product of normalized word_vector and each row)\n",
    "    cosine_similarities = np.dot(anchors_normalized, word_vector_normalized)\n",
    "    \n",
    "    return cosine_similarities"
   ],
   "metadata": {
    "collapsed": false,
    "ExecuteTime": {
     "end_time": "2024-07-16T15:23:04.001936Z",
     "start_time": "2024-07-16T15:23:03.978953Z"
    }
   },
   "id": "6c81d90ec2020ce8",
   "execution_count": 101
  },
  {
   "cell_type": "code",
   "outputs": [
    {
     "name": "stderr",
     "output_type": "stream",
     "text": [
      "Calculating relative representations: 100%|██████████| 112212/112212 [00:32<00:00, 3440.89it/s]\n"
     ]
    }
   ],
   "source": [
    "n_anchors = 300\n",
    "random.seed(42)\n",
    "relative_representations_glove = get_relative_representations(embeddings_dict_glove, n_anchors=n_anchors, similarity_measure=cosine_similarity)"
   ],
   "metadata": {
    "collapsed": false,
    "ExecuteTime": {
     "end_time": "2024-07-16T15:23:36.866705Z",
     "start_time": "2024-07-16T15:23:04.004310Z"
    }
   },
   "id": "a9b0006b10649388",
   "execution_count": 102
  },
  {
   "cell_type": "code",
   "outputs": [
    {
     "name": "stderr",
     "output_type": "stream",
     "text": [
      "Calculating relative representations: 100%|██████████| 112212/112212 [00:30<00:00, 3675.97it/s]\n"
     ]
    }
   ],
   "source": [
    "relative_representations_fasttext = get_relative_representations(embeddings_dict_fasttext, n_anchors=n_anchors, similarity_measure=cosine_similarity)"
   ],
   "metadata": {
    "collapsed": false,
    "ExecuteTime": {
     "end_time": "2024-07-16T15:24:07.597240Z",
     "start_time": "2024-07-16T15:23:36.869388Z"
    }
   },
   "id": "348f2fbe337dbebf",
   "execution_count": 103
  },
  {
   "cell_type": "code",
   "outputs": [],
   "source": [
    "def sample_cluster_centers(embedding_dict, n=5):\n",
    "    random_sample = random.sample(list(embedding_dict.keys()), n)\n",
    "    return np.array([embedding_dict[word] for word in random_sample])\n",
    "\n",
    "\n",
    "def create_2d_clusters(cluster_centers, embeddings, n_neighbors=200):\n",
    "    \"\"\"\n",
    "    Find the n_points nearest neighbors in the embeddings matrix for each cluster center and use PCA to reduce the dimensionality of the points to 2.\n",
    "    \n",
    "    Parameters:\n",
    "    cluster_centers (np.array): An array of cluster center vectors.\n",
    "    embeddings (np.array): An array of embedding vectors.\n",
    "    n_neighbors (int): The number of nearest neighbors to find for each cluster center.\n",
    "    \n",
    "    Returns:\n",
    "    pca_results: A numpy array of shape (n_clusters, n_neighbors, 2) containing the two principal components of the nearest neighbors of each of the clusters centers\n",
    "    \"\"\"\n",
    "    pca_results = np.empty(shape=(cluster_centers.shape[0], n_neighbors, 2))\n",
    "    \n",
    "    # Fit the NearestNeighbors model\n",
    "    nn_model = NearestNeighbors(n_neighbors=n_neighbors)\n",
    "    pca = PCA(n_components=2)\n",
    "    embeddings_2d = pca.fit_transform(embeddings)\n",
    "    nn_model.fit(embeddings_2d)\n",
    "    \n",
    "    for i, center in enumerate(cluster_centers):\n",
    "        # Find the n_points nearest neighbors\n",
    "        center_2d = pca.transform(center.reshape((1, -1)))\n",
    "        distances, indices = nn_model.kneighbors(center_2d)\n",
    "        nearest_neighbors = embeddings_2d[indices[0]]\n",
    "                \n",
    "        # Store the results in the dictionary\n",
    "        pca_results[i] = nearest_neighbors\n",
    "    \n",
    "    return pca_results\n",
    "\n",
    "def visualize_clusters(pca_results, name='', y_lim=(None,), x_lim=(None,)):\n",
    "    for points in pca_results:\n",
    "        plt.scatter(points[:, 0], points[:, 1], marker='o', s=2.5)\n",
    "    plt.title(name)\n",
    "    plt.ylim(*y_lim)\n",
    "    plt.xlim(*x_lim)\n",
    "    plt.grid(True)"
   ],
   "metadata": {
    "collapsed": false,
    "ExecuteTime": {
     "end_time": "2024-07-16T15:26:03.544203Z",
     "start_time": "2024-07-16T15:26:03.518207Z"
    }
   },
   "id": "a156db4ed04d5551",
   "execution_count": 110
  },
  {
   "cell_type": "code",
   "outputs": [],
   "source": [
    "n_centers = 3\n",
    "n_points_visualisation = 100\n",
    "\n",
    "centers_glove = sample_cluster_centers(embeddings_dict_glove, n=n_centers)\n",
    "own_representations_glove = np.vstack(list(embeddings_dict_glove.values()))\n",
    "\n",
    "centers_fasttext = sample_cluster_centers(embeddings_dict_glove, n=n_centers)\n",
    "own_representations_fasttext = np.vstack(list(embeddings_dict_glove.values()))"
   ],
   "metadata": {
    "collapsed": false,
    "ExecuteTime": {
     "end_time": "2024-07-16T15:26:04.600403Z",
     "start_time": "2024-07-16T15:26:03.784177Z"
    }
   },
   "id": "10a27120f1acffbd",
   "execution_count": 111
  },
  {
   "cell_type": "code",
   "outputs": [],
   "source": [
    "pca_glove_own = create_2d_clusters(centers_glove, embeddings=own_representations_glove, n_neighbors=n_points_visualisation)\n",
    "\n",
    "pca_fasttext_own = create_2d_clusters(centers_fasttext, embeddings=own_representations_fasttext, n_neighbors=n_points_visualisation)\n",
    "\n",
    "pca_glove_relative = create_2d_clusters(centers_glove, embeddings=relative_representations_glove, n_neighbors=n_points_visualisation)\n",
    "\n",
    "pca_fasttext_relative = create_2d_clusters(centers_fasttext, embeddings=relative_representations_fasttext, n_neighbors=n_points_visualisation)"
   ],
   "metadata": {
    "collapsed": false,
    "ExecuteTime": {
     "end_time": "2024-07-16T15:26:07.867688Z",
     "start_time": "2024-07-16T15:26:05.916462Z"
    }
   },
   "id": "edf46e8cd88f179a",
   "execution_count": 112
  },
  {
   "cell_type": "code",
   "outputs": [
    {
     "data": {
      "text/plain": "<Figure size 640x480 with 4 Axes>",
      "image/png": "[encoded data removed]"
     },
     "metadata": {},
     "output_type": "display_data"
    }
   ],
   "source": [
    "fig, axs = plt.subplots(nrows=2, ncols=2)\n",
    "plt.sca(axs[0, 0])\n",
    "visualize_clusters(pca_glove_own, f'PCA GloVe {n_points_visualisation}\\nown representations')\n",
    "plt.sca(axs[1, 0])\n",
    "visualize_clusters(pca_fasttext_own, f'PCA Fasttext {n_points_visualisation}\\nown representations')\n",
    "plt.sca(axs[0, 1])\n",
    "visualize_clusters(pca_glove_relative, f'PCA GloVe {n_points_visualisation}\\nrelative representations')\n",
    "plt.sca(axs[1, 1])\n",
    "visualize_clusters(pca_fasttext_relative, f'PCA Fasttext {n_points_visualisation}\\nrelative representations')\n",
    "\n",
    "plt.tight_layout()"
   ],
   "metadata": {
    "collapsed": false,
    "ExecuteTime": {
     "end_time": "2024-07-16T15:26:08.536973Z",
     "start_time": "2024-07-16T15:26:07.870234Z"
    }
   },
   "id": "116829c72ec8b853",
   "execution_count": 113
  },
  {
   "cell_type": "code",
   "outputs": [],
   "source": [
    "def jaccard_similarity(vector, matrix):\n",
    "    \"\"\"\n",
    "    Calculate the Jaccard similarity between the vector and each of the rows in the matrix.\n",
    "    \n",
    "    Parameters:\n",
    "    vector (np.array): A binary vector.\n",
    "    matrix (np.array): A binary matrix with each row to be compared to the vector.\n",
    "    \n",
    "    Returns:\n",
    "    np.array: A vector of Jaccard similarities of shape (n_anchors,).\n",
    "    \"\"\"\n",
    "    # Ensure binary values\n",
    "    vector = np.asarray(vector, dtype=bool)\n",
    "    matrix = np.asarray(matrix, dtype=bool)\n",
    "    \n",
    "    # Calculate intersection and union\n",
    "    intersection = np.logical_and(matrix, vector).sum(axis=1)\n",
    "    union = np.logical_or(matrix, vector).sum(axis=1)\n",
    "    \n",
    "    # Handle the case of zero union (avoid division by zero)\n",
    "    union[union == 0] = 1\n",
    "    \n",
    "    # Calculate Jaccard similarity\n",
    "    jaccard_similarities = intersection / union\n",
    "    \n",
    "    return jaccard_similarities\n",
    "\n",
    "def mean_reciprocal_rank(query_vector, matrix):\n",
    "    \"\"\"\n",
    "    Calculate the Mean Reciprocal Rank (MRR) given a query vector and a matrix.\n",
    "    \n",
    "    Parameters:\n",
    "    query_vector (np.array): A vector representing the query.\n",
    "    matrix (np.array): A matrix where each row represents a document.\n",
    "    \n",
    "    Returns:\n",
    "    float: The MRR score.\n",
    "    \"\"\"\n",
    "    # Compute relevance scores as dot products between the query_vector and each row in the matrix\n",
    "    relevance_scores = np.dot(matrix, query_vector)\n",
    "    \n",
    "    # Get the ranks of the documents sorted by relevance (highest relevance first)\n",
    "    sorted_indices = np.argsort(relevance_scores)[::-1]\n",
    "    \n",
    "    # Find the rank of the first relevant document\n",
    "    first_relevant_rank = np.where(sorted_indices == 0)[0][0] + 1  # Adding 1 to make rank 1-based\n",
    "    \n",
    "    # Calculate the reciprocal rank\n",
    "    reciprocal_rank = 1 / first_relevant_rank\n",
    "    \n",
    "    return reciprocal_rank"
   ],
   "metadata": {
    "collapsed": false,
    "ExecuteTime": {
     "end_time": "2024-07-16T14:55:30.027807Z",
     "start_time": "2024-07-16T14:55:30.014775Z"
    }
   },
   "id": "541066a020d8152f",
   "execution_count": 26
  },
  {
   "cell_type": "code",
   "outputs": [],
   "source": [
    "def calculate_metrics(repr1, repr2, name1, name2, dict1, dict2, K=10):\n",
    "    metrics_dict = defaultdict(lambda: [])\n",
    "    knn1 = NearestNeighbors(n_neighbors=K)\n",
    "    knn2 = NearestNeighbors(n_neighbors=K)\n",
    "    knn1.fit(repr1)\n",
    "    knn2.fit(repr2)\n",
    "    \n",
    "    nearest_neighbors1 = knn2.kneighbors(repr1, return_distance=False)\n",
    "    for i, vect in tqdm(enumerate(repr1), desc=f'Calculating MRR for {name1}', leave=True, position=0, total=len(repr1)):\n",
    "        metrics_dict[f'{name1}_MRR'].append(mean_reciprocal_rank(vect, repr2[nearest_neighbors1[i]]))\n",
    "    nearest_neighbors1 = knn2.kneighbors(repr1, return_distance=False)\n",
    "    for i, vect in tqdm(enumerate(repr2), desc=f'Calculating MRR for {name1}', leave=True, position=0, total=len(repr2)):\n",
    "        metrics_dict[f'{name2}_MRR'].append(mean_reciprocal_rank(vect, repr1[nearest_neighbors1[i]]))\n",
    "    \n",
    "    for word in dict1.keys():\n",
    "        cos_sim = np.dot(dict1[word], dict2[word])\n",
    "        metrics_dict[f'cosine_similarity_glove_fasttext'].append(cos_sim)\n",
    "        metrics_dict[f'cosine_similarity_fasttext_glove'].append(cos_sim)\n",
    "    \n",
    "    metrics_mean = {name: np.mean(list_) for name, list_ in metrics_dict.items()}\n",
    "    return metrics_mean"
   ],
   "metadata": {
    "collapsed": false,
    "ExecuteTime": {
     "end_time": "2024-07-16T14:55:30.068468Z",
     "start_time": "2024-07-16T14:55:30.029884Z"
    }
   },
   "id": "5b425cdf0f2dfb15",
   "execution_count": 27
  },
  {
   "cell_type": "code",
   "outputs": [
    {
     "name": "stderr",
     "output_type": "stream",
     "text": [
      "Calculating MRR for glove: 100%|██████████| 19316/19316 [00:00<00:00, 71783.07it/s]\n",
      "Calculating MRR for glove: 100%|██████████| 19316/19316 [00:00<00:00, 81853.89it/s]\n"
     ]
    },
    {
     "data": {
      "text/plain": "{'glove_MRR': 0.16212698494873898,\n 'fasttext_MRR': 0.70103742435747,\n 'cosine_similarity_glove_fasttext': 0.09614079,\n 'cosine_similarity_fasttext_glove': 0.09614079}"
     },
     "execution_count": 28,
     "metadata": {},
     "output_type": "execute_result"
    }
   ],
   "source": [
    "calculate_metrics(repr1=relative_representations_glove, repr2=relative_representations_fasttext, name1='glove', name2='fasttext', dict1=embeddings_dict_glove, dict2=embeddings_dict_fasttext)"
   ],
   "metadata": {
    "collapsed": false,
    "ExecuteTime": {
     "end_time": "2024-07-16T14:55:39.014372Z",
     "start_time": "2024-07-16T14:55:30.071953Z"
    }
   },
   "id": "c8f532e150b0e5b0",
   "execution_count": 28
  },
  {
   "cell_type": "code",
   "outputs": [],
   "source": [],
   "metadata": {
    "collapsed": false,
    "ExecuteTime": {
     "end_time": "2024-07-16T14:55:39.030355Z",
     "start_time": "2024-07-16T14:55:39.016359Z"
    }
   },
   "id": "2352c7b232903359",
   "execution_count": 28
  }
 ],
 "metadata": {
  "kernelspec": {
   "display_name": "Python 3",
   "language": "python",
   "name": "python3"
  },
  "language_info": {
   "codemirror_mode": {
    "name": "ipython",
    "version": 2
   },
   "file_extension": ".py",
   "mimetype": "text/x-python",
   "name": "python",
   "nbconvert_exporter": "python",
   "pygments_lexer": "ipython2",
   "version": "2.7.6"
  }
 },
 "nbformat": 4,
 "nbformat_minor": 5
}
